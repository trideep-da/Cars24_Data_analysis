{
 "cells": [
  {
   "cell_type": "code",
   "execution_count": null,
   "id": "eceb843c-b503-40d9-9c76-c9128e701131",
   "metadata": {},
   "outputs": [],
   "source": [
    "# import all dependencies\n",
    "\n",
    "from selenium import webdriver\n",
    "from selenium.webdriver.common.by import By\n",
    "from selenium.webdriver.support.ui import WebDriverWait\n",
    "from selenium.webdriver.support import expected_conditions as EC\n",
    "from bs4 import BeautifulSoup\n",
    "import time\n",
    "import pandas as pd"
   ]
  },
  {
   "cell_type": "code",
   "execution_count": null,
   "id": "7e9e4167-86f7-41e1-9112-71b9655d364a",
   "metadata": {},
   "outputs": [],
   "source": [
    "# Open an Edge browser window, maximize it, and navigate to the Cars24 used car listing page with filters\n",
    "\n",
    "driver=webdriver.Edge()\n",
    "driver.maximize_window()\n",
    "driver.get(\"https://www.cars24.com/buy-used-car?f=listingPrice%3Abw%3A150000%2C600000&sort=bestmatch&serveWarrantyCount=true&gaId=1200561372.1721151183&listingSource=TabFilter&storeCityId=2378\")\n",
    "for k in range(20):\n",
    "    driver.execute_script(\"window.scrollTo(0, document.body.scrollHeight);\")\n",
    "    time.sleep(2)\n"
   ]
  },
  {
   "cell_type": "code",
   "execution_count": null,
   "id": "2e24ad32-4351-438c-96e0-115841c1dc06",
   "metadata": {},
   "outputs": [],
   "source": [
    "# Parse the current HTML content of the WebDriver instance into a BeautifulSoup object\n",
    "\n",
    "soup=BeautifulSoup(driver.page_source,'html.parser')\n",
    "print(soup)"
   ]
  },
  {
   "cell_type": "code",
   "execution_count": null,
   "id": "49cd1a6f-7c66-4aae-b17e-5cbf83f3e65c",
   "metadata": {},
   "outputs": [],
   "source": [
    "# Find all elements with the particular class name\n",
    "\n",
    "result=soup.find_all(\"div\",{\"class\":\"_2ujGx\"}) \n",
    "result"
   ]
  },
  {
   "cell_type": "code",
   "execution_count": null,
   "id": "0d42b05e-0eb2-4c9a-88d4-4fba6b78a59b",
   "metadata": {},
   "outputs": [],
   "source": [
    "# Find all anchor tags with the particular class\n",
    "\n",
    "anchor_tag=soup.find_all(\"a\",{\"class\":\"IIJDn\"}) \n",
    "anchor_tag"
   ]
  },
  {
   "cell_type": "code",
   "execution_count": null,
   "id": "4aef737d-f23d-46d3-b31b-9eb0f1ee1561",
   "metadata": {},
   "outputs": [],
   "source": [
    "# Extract href (link) values from the anchor tags and store them in a list\n",
    "\n",
    "a_list=[]\n",
    "for a_tag in anchor_tag:\n",
    "    href_value = a_tag.get('href')\n",
    "    a_list.append(href_value)"
   ]
  },
  {
   "cell_type": "code",
   "execution_count": null,
   "id": "3c620d1d-cc17-47ed-87e0-6d1fdeaa4240",
   "metadata": {},
   "outputs": [],
   "source": [
    "def scrape_data_from_link(link):\n",
    "    driver = webdriver.Edge()\n",
    "    driver.maximize_window()\n",
    "    driver.get(link)\n",
    "    time.sleep(5)\n",
    "    \n",
    "    # Use dynamic waiting techniques instead of a fixed sleep\n",
    "    \n",
    "    soup = BeautifulSoup(driver.page_source, \"html.parser\")\n",
    "    \n",
    "    # Initialised an empty dictionary\n",
    "    \n",
    "    data = {\"brand\": [],\n",
    "            \"rege\":[],\n",
    "            \"payment\":[],\n",
    "            \"location\":[]\n",
    "            }\n",
    "   # Find HTML elements based on class names\n",
    "    \n",
    "    brand_tag = soup.find(\"h1\", {\"class\": \"_2Ximl\"})        \n",
    "    reg_no=soup.find(\"div\", {\"class\": \"_36EKv\"})\n",
    "    Pay=soup.find(\"div\", {\"class\": \"_2j-eI\"})\n",
    "    loca=soup.find(\"li\", {\"class\": \"_1Rvdw\"})\n",
    "    \n",
    "   # Extract and clean text content\n",
    "    \n",
    "    brand = brand_tag.text.strip()\n",
    "    registration = reg_no.text.strip()\n",
    "    payment = Pay.text.strip()\n",
    "    location = loca.text.strip()\n",
    "\n",
    "    # Append data in the dictionary\n",
    "    \n",
    "    data[\"brand\"].append(brand)\n",
    "    data[\"rege\"].append(registration)\n",
    "    data[\"payment\"].append(payment)\n",
    "    data[\"location\"].append(location)    \n",
    "    \n",
    "    driver.quit()\n",
    "    return data\n",
    "    \n",
    "# Looping throught each link and storing the scraped data in an empty dictionary\n",
    "\n",
    "scraped_data = {}\n",
    "for link in a_list:\n",
    "    data = scrape_data_from_link(link)\n",
    "    scraped_data[link] = data\n"
   ]
  },
  {
   "cell_type": "code",
   "execution_count": null,
   "id": "63696366-a85c-4172-9486-f1a2e7848bff",
   "metadata": {},
   "outputs": [],
   "source": [
    "# Create a dataframe out of scraped data \n",
    "\n",
    "df=pd.DataFrame(scraped_data)"
   ]
  },
  {
   "cell_type": "code",
   "execution_count": null,
   "id": "3850a19c-c0c8-42ac-8a17-93a876313bf6",
   "metadata": {},
   "outputs": [],
   "source": [
    "# Transpose the DataFrame (swap rows and columns)\n",
    "\n",
    "df=df.T"
   ]
  },
  {
   "cell_type": "code",
   "execution_count": null,
   "id": "fe58b8a9-50b0-45f2-9f72-b085da8d51bd",
   "metadata": {},
   "outputs": [],
   "source": [
    "# Print a concise summary of the DataFrame\n",
    "\n",
    "df.info()"
   ]
  },
  {
   "cell_type": "code",
   "execution_count": null,
   "id": "4e7ad2c3-bdc8-41fe-a907-3308ee1805bc",
   "metadata": {},
   "outputs": [],
   "source": [
    "# Save the dataframe as csv file\n",
    "\n",
    "df.to_csv(\"uncleaned_cars24_data.csv\")"
   ]
  },
  {
   "cell_type": "code",
   "execution_count": null,
   "id": "11f3e3a5-ba67-4f5c-a430-9afe6cc1b968",
   "metadata": {},
   "outputs": [],
   "source": []
  }
 ],
 "metadata": {
  "kernelspec": {
   "display_name": "Python 3 (ipykernel)",
   "language": "python",
   "name": "python3"
  },
  "language_info": {
   "codemirror_mode": {
    "name": "ipython",
    "version": 3
   },
   "file_extension": ".py",
   "mimetype": "text/x-python",
   "name": "python",
   "nbconvert_exporter": "python",
   "pygments_lexer": "ipython3",
   "version": "3.11.7"
  }
 },
 "nbformat": 4,
 "nbformat_minor": 5
}
