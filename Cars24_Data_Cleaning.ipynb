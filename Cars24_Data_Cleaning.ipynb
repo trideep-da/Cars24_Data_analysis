{
 "cells": [
  {
   "cell_type": "code",
   "execution_count": null,
   "id": "26798912-82aa-4113-a019-4f1e741ac371",
   "metadata": {},
   "outputs": [],
   "source": [
    "# Import Pandas Library\n",
    "\n",
    "import pandas as pd"
   ]
  },
  {
   "cell_type": "code",
   "execution_count": null,
   "id": "231b28e6-fbf8-4152-96b5-c28227d4450c",
   "metadata": {},
   "outputs": [],
   "source": [
    "# Read csv file\n",
    "\n",
    "cars24_df=pd.read_csv(\"uncleaned_cars24_data.csv\")"
   ]
  },
  {
   "cell_type": "code",
   "execution_count": null,
   "id": "f0254319-dcef-4bac-b7b2-339cee6c8f68",
   "metadata": {},
   "outputs": [],
   "source": [
    "# Print a concise summary of the DataFrame\n",
    "\n",
    "cars24_df.info()"
   ]
  },
  {
   "cell_type": "code",
   "execution_count": null,
   "id": "e673fe79-be01-4e45-943e-7eeffbaa579e",
   "metadata": {},
   "outputs": [],
   "source": [
    "# Changing the datatype of brand column to string\n",
    "\n",
    "cars24_df[\"brand\"] = cars24_df[\"brand\"].astype(str)"
   ]
  },
  {
   "cell_type": "code",
   "execution_count": null,
   "id": "d0fa0024-ef39-4312-b01c-387fef7fe3ac",
   "metadata": {},
   "outputs": [],
   "source": [
    "# Fetching the first word from the string\n",
    "\n",
    "cars24_df[\"CAR_MODEL\"] = cars24_df[\"brand\"].str.split().str[0]"
   ]
  },
  {
   "cell_type": "code",
   "execution_count": null,
   "id": "c0996293-7dc0-4c9a-b9c0-4fb7c82e1592",
   "metadata": {},
   "outputs": [],
   "source": [
    "# Replacing unnecessary characters\n",
    "\n",
    "cars24_df['CAR_MODEL'] = cars24_df['CAR_MODEL'].str.replace(\"[\",'')\n",
    "cars24_df['CAR_MODEL'] = cars24_df['CAR_MODEL'].str.replace(\"'\",'')"
   ]
  },
  {
   "cell_type": "code",
   "execution_count": null,
   "id": "83ae1961-74e3-4c18-9ef6-ae63161cc323",
   "metadata": {},
   "outputs": [],
   "source": [
    "# Fetching the second word from the string\n",
    "\n",
    "cars24_df[\"BRAND\"] = cars24_df[\"brand\"].str.split().str[1]"
   ]
  },
  {
   "cell_type": "code",
   "execution_count": null,
   "id": "b48a6222-2c18-4b61-a2b4-8e68e7fd1e9c",
   "metadata": {},
   "outputs": [],
   "source": [
    "# Creating a lamda function to fetch the car name\n",
    "\n",
    "cars24_df[\"CAR_NAME\"] = cars24_df[\"brand\"].str.split().apply(lambda x: f\"{x[1]} {x[2]}\" if len(x) > 2 else \"\")"
   ]
  },
  {
   "cell_type": "code",
   "execution_count": null,
   "id": "1d744cc1-f22c-49f5-ad1c-eab1408e881b",
   "metadata": {},
   "outputs": [],
   "source": [
    "# Creating a lamda function to fetch the car variant\n",
    "\n",
    "cars24_df[\"CAR_VARIANT\"] = cars24_df[\"brand\"].str.split().apply(lambda x: \" \".join(x[3:]) if len(x) > 3 else \"\")"
   ]
  },
  {
   "cell_type": "code",
   "execution_count": null,
   "id": "329b4687-2c93-4ebe-a586-84a15e4038a6",
   "metadata": {},
   "outputs": [],
   "source": [
    "# Replacing unnecessary characters\n",
    "\n",
    "cars24_df['CAR_VARIANT'] = cars24_df['CAR_VARIANT'].str.replace(\"']\", '')"
   ]
  },
  {
   "cell_type": "code",
   "execution_count": null,
   "id": "ac412b37-019e-4cbe-84f4-528c13f7eea6",
   "metadata": {},
   "outputs": [],
   "source": [
    "# Droping the brand column after extracting necessary values\n",
    "\n",
    "del cars24_df[\"brand\"]"
   ]
  },
  {
   "cell_type": "code",
   "execution_count": null,
   "id": "c3bbd052-426f-470e-8db2-e3549b9ea04c",
   "metadata": {},
   "outputs": [],
   "source": [
    "# Splitting rege column on the number\n",
    "\n",
    "cars24_df[[\"Registration_no\", \"dummy\"]]=cars24_df[\"rege\"].str.split(\"number\",expand=True)"
   ]
  },
  {
   "cell_type": "code",
   "execution_count": null,
   "id": "383853e8-5d7c-4a30-97e4-902e8f411c78",
   "metadata": {},
   "outputs": [],
   "source": [
    "# Splitting dummy column on the capacity\n",
    "\n",
    "cars24_df[[\"registr_no\", \"dummy1\"]]=cars24_df[\"dummy\"].str.split(\"capacity\",expand=True)"
   ]
  },
  {
   "cell_type": "code",
   "execution_count": null,
   "id": "caf86411-76ed-4faf-9633-0313e9cb6b2c",
   "metadata": {},
   "outputs": [],
   "source": [
    "# Drop unwanted column location1\n",
    "\n",
    "cars24_df.drop(columns=[\"LOCATION1\"],inplace=True)"
   ]
  },
  {
   "cell_type": "code",
   "execution_count": null,
   "id": "55c4b57b-2a89-4486-b5f8-dff05321c40d",
   "metadata": {},
   "outputs": [],
   "source": [
    "# Slicing the dummy column\n",
    "\n",
    "cars24_df[\"rege_no\"]=cars24_df[\"dummy\"].str[0:12]"
   ]
  },
  {
   "cell_type": "code",
   "execution_count": null,
   "id": "ff87b396-5536-4dcd-8624-fdb89572cc94",
   "metadata": {},
   "outputs": [],
   "source": [
    "# Splitting dummy column on the transmission \n",
    "\n",
    "cars24_df[[\"dummy4\", \"transmission\"]]=cars24_df[\"dummy\"].str.split(\"Transmission \",expand=True)"
   ]
  },
  {
   "cell_type": "code",
   "execution_count": null,
   "id": "66d2029a-e682-43c4-913f-44e4b381b38a",
   "metadata": {},
   "outputs": [],
   "source": [
    "# Splitting transmission column on the driven\n",
    "\n",
    "cars24_df[[\"km_driven\", \"dummy\"]]=cars24_df[\"transmission\"].str.split(\"driven \",expand=True)"
   ]
  },
  {
   "cell_type": "code",
   "execution_count": null,
   "id": "2e518cc7-f1d0-4ece-b221-34fc106a9cd3",
   "metadata": {},
   "outputs": [],
   "source": [
    "# Replacing unnecessary characters \n",
    "\n",
    "cars24_df[\"transmission\"]=cars24_df[\"km_driven\"].str.replace(\"KM\",\"\")"
   ]
  },
  {
   "cell_type": "code",
   "execution_count": null,
   "id": "2634d07d-f8ca-4fa4-a9fe-23f9c690bb69",
   "metadata": {},
   "outputs": [],
   "source": [
    "# Splitting dummy column on the kmOwnership\n",
    "\n",
    "cars24_df[[\"km_driven\", \"dummy1\"]]=cars24_df[\"dummy\"].str.split(\"kmOwnership \",expand=True)"
   ]
  },
  {
   "cell_type": "code",
   "execution_count": null,
   "id": "636023fd-b11b-4079-b1ee-367e646f3bc0",
   "metadata": {},
   "outputs": [],
   "source": [
    "# Splitting dummy1 column on the type\n",
    "\n",
    "cars24_df[[\"ownership\", \"dummy2\"]]=cars24_df[\"dummy1\"].str.split(\"type \",expand=True)"
   ]
  },
  {
   "cell_type": "code",
   "execution_count": 24,
   "id": "09a653ed-5bad-4d91-b84c-abbf84162fe7",
   "metadata": {},
   "outputs": [],
   "source": [
    "# Replacing unnecessary characters\n",
    "\n",
    "cars24_df[\"ownership\"]=cars24_df[\"ownership\"].str.replace(\"Fuel\",\"\")"
   ]
  },
  {
   "cell_type": "code",
   "execution_count": null,
   "id": "2337f90a-46a8-4313-a5ee-197eff58e42f",
   "metadata": {},
   "outputs": [],
   "source": [
    "# Replacing unnecessary characters\n",
    "\n",
    "cars24_df[\"Fuel_type\"]=cars24_df[\"dummy2\"].str.replace(\"']\",\"\")"
   ]
  },
  {
   "cell_type": "code",
   "execution_count": null,
   "id": "05ccabf9-6d15-42ac-92ba-47a3bc4def59",
   "metadata": {},
   "outputs": [],
   "source": [
    "# Splitting payment's column on space\n",
    "\n",
    "cars24_df[['EMI','Pay']]=cars24_df['payment'].str.split(' ',n=1,expand=True)"
   ]
  },
  {
   "cell_type": "code",
   "execution_count": null,
   "id": "2fcbd5e3-0160-40a2-9f4c-2456df236f36",
   "metadata": {},
   "outputs": [],
   "source": [
    "# Replacing unnecessary characters \n",
    "\n",
    "cars24_df['EMI']=cars24_df['EMI'].str.replace(\"[\",\"\")"
   ]
  },
  {
   "cell_type": "code",
   "execution_count": null,
   "id": "d2277dbd-4bae-4134-bc48-acfda498bae2",
   "metadata": {},
   "outputs": [],
   "source": [
    "# Changing datatype to string\n",
    "\n",
    "cars24_df[\"EMI\"] = cars24_df[\"EMI\"].astype(str)"
   ]
  },
  {
   "cell_type": "code",
   "execution_count": null,
   "id": "1921b4be-5195-45e1-8141-17a3a00220ab",
   "metadata": {},
   "outputs": [],
   "source": [
    "# Replacing unnecessary character\n",
    "\n",
    "cars24_df['EMI']=cars24_df['EMI'].str.replace(\"'₹\",\"\")"
   ]
  },
  {
   "cell_type": "code",
   "execution_count": null,
   "id": "50c55cd2-397b-4671-8169-c3ccfa9935e0",
   "metadata": {},
   "outputs": [],
   "source": [
    "# Replacing unnecessary character\n",
    "\n",
    "cars24_df['Price']=cars24_df['dummy5'].str.replace(\"']\",\"\")"
   ]
  },
  {
   "cell_type": "code",
   "execution_count": null,
   "id": "08111bee-df63-44f7-9c7a-867f8cc3ce8b",
   "metadata": {},
   "outputs": [],
   "source": [
    "# Fetching locations data \n",
    "\n",
    "cars24_df[\"location\"] = cars24_df[\"location\"].astype(str)\n",
    "cars24_df['LOCATION'] = cars24_df['location'].str.strip(\"[]\")\n",
    "cars24_df['LOCATION1'] = cars24_df['LOCATION'].str.split(\"at:\", expand=True)[1]\n",
    "cars24_df['LOCATION'] = cars24_df['LOCATION1'].str.replace(\"'\",' ')"
   ]
  },
  {
   "cell_type": "code",
   "execution_count": null,
   "id": "bcb1e7b5-ce68-427e-8c83-b54109247cce",
   "metadata": {},
   "outputs": [],
   "source": [
    "# Fetching price details\n",
    "\n",
    "cars24_df[\"PRICE\"] = cars24_df[\"Price\"].str.split().str[-2]\n",
    "cars24_df['Prices'] = cars24_df['Prices'].str.replace(\"h₹\",' ')\n",
    "cars24_df['Prices'] = cars24_df['Prices'].str.replace(\"k\",'')"
   ]
  },
  {
   "cell_type": "code",
   "execution_count": null,
   "id": "8d06f1fe-df67-4f15-9c0a-3b0b550436be",
   "metadata": {},
   "outputs": [],
   "source": [
    "# Droping unnecessary columns\n",
    "\n",
    "cars24_df.drop(columns=[\"payment\"],inplace=True)"
   ]
  },
  {
   "cell_type": "code",
   "execution_count": null,
   "id": "5fc55134-6da2-4e45-b8dc-01a08a78d3c7",
   "metadata": {},
   "outputs": [],
   "source": [
    "# Replacing unnecessary character\n",
    "\n",
    "Cars_24['Monthly_EMI'] = Cars_24['Monthly_EMI'].str.replace(\"/month\",\"\")\n",
    "Cars_24['Monthly_EMI'] = Cars_24['Monthly_EMI'].str.replace(\",\",\"\")"
   ]
  },
  {
   "cell_type": "code",
   "execution_count": null,
   "id": "e1b2cc4c-b746-4779-925b-5f25a703889d",
   "metadata": {},
   "outputs": [],
   "source": [
    "# Cleaning prices column\n",
    "\n",
    "cars24_df[\"Prices\"]=cars24_df[\"Price\"].str[-12:]"
   ]
  },
  {
   "cell_type": "code",
   "execution_count": null,
   "id": "ee0925ff-4958-48f0-a85c-37294650705f",
   "metadata": {},
   "outputs": [],
   "source": [
    "# Changing the datatype from string to float and int\n",
    "\n",
    "Cars_24['KM_Driven'] = Cars_24['KM_Driven'].fillna(0).astype(int)\n",
    "Cars_24['Monthly_EMI'] = Cars_24['Monthly_EMI'].fillna(0).astype(int)\n",
    "Cars_24['Car_Price(in Lakhs)'] = Cars_24['Car_Price(in Lakhs)'].astype(float)"
   ]
  },
  {
   "cell_type": "code",
   "execution_count": null,
   "id": "10517525-4567-4d6a-955a-e57f902fb729",
   "metadata": {},
   "outputs": [],
   "source": [
    "# Save the dataframe as csv file\n",
    "\n",
    "Cars_24.to_csv(\"cleaned_Cars24_data.csv\", index=False)"
   ]
  },
  {
   "cell_type": "code",
   "execution_count": null,
   "id": "ac92d5c5-b83e-49d6-93c1-43077b272278",
   "metadata": {},
   "outputs": [],
   "source": []
  }
 ],
 "metadata": {
  "kernelspec": {
   "display_name": "Python 3 (ipykernel)",
   "language": "python",
   "name": "python3"
  },
  "language_info": {
   "codemirror_mode": {
    "name": "ipython",
    "version": 3
   },
   "file_extension": ".py",
   "mimetype": "text/x-python",
   "name": "python",
   "nbconvert_exporter": "python",
   "pygments_lexer": "ipython3",
   "version": "3.11.7"
  }
 },
 "nbformat": 4,
 "nbformat_minor": 5
}
